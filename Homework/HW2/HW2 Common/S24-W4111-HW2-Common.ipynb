{
 "cells": [
  {
   "cell_type": "markdown",
   "id": "6baaee96",
   "metadata": {},
   "source": [
    "<style  type=\"text/css\">\n",
    "cool {\n",
    "  width: 100px;\n",
    "  height: 100px;\n",
    "  background-color: red;\n",
    "  position: relative;\n",
    "  -webkit-animation-name: example; /* Safari 4.0 - 8.0 */\n",
    "  -webkit-animation-duration: 4s; /* Safari 4.0 - 8.0 */\n",
    "  -webkit-animation-iteration-count: infinite; /* Safari 4.0 - 8.0 */\n",
    "  animation-name: example;\n",
    "  animation-duration: 4s;\n",
    "  animation-iteration-count: infinite;\n",
    "}\n",
    "\n",
    "loud {\n",
    "    font-size: 20pt;\n",
    "    }\n",
    "\n",
    "/* Safari 4.0 - 8.0 */\n",
    "@-webkit-keyframes example {\n",
    "  0%   {background-color:red; left:0px; top:0px;}\n",
    "  25%  {background-color:yellow; left:200px; top:0px;}\n",
    "  50%  {background-color:blue; left:200px; top:200px;}\n",
    "  75%  {background-color:green; left:0px; top:200px;}\n",
    "  100% {background-color:red; left:0px; top:0px;}\n",
    "}\n",
    "\n",
    "/* Standard syntax */\n",
    "@keyframes example {\n",
    "  0%   {background-color:red; left:0px; top:0px;}\n",
    "  25%  {background-color:yellow; left:200px; top:0px;}\n",
    "  50%  {background-color:blue; left:200px; top:200px;}\n",
    "  75%  {background-color:green; left:0px; top:200px;}\n",
    "  100% {background-color:red; left:0px; top:0px;}\n",
    "}\n",
    "</style>\n",
    "\n",
    "<b><center>\n",
    "<span style=\"font-size: 24pt; line-height: 1.2\">\n",
    "COMS W4111: Introduction to Databases<br>\n",
    "Spring 2024, Sections 002/V02\n",
    "</span>\n",
    "</center></b>\n",
    "<br>\n",
    "<p>\n",
    "<i><center>\n",
    "<span style=\"font-size: 20pt; line-height: 1.2\">\n",
    "Homework 2: Common\n",
    "</span>\n",
    "</center></i>"
   ]
  },
  {
   "cell_type": "markdown",
   "id": "db195160",
   "metadata": {},
   "source": [
    "# Introduction\n",
    "\n",
    "This notebook contains HW2 Common. **Students on both tracks should complete this part.** To ensure everything runs as expected, work on this notebook in Jupyter.\n",
    "\n",
    "Submission instructions:\n",
    "\n",
    "- You will submit **a PDF** for this assignment\n",
    "    - The most reliable way to save as PDF is to go to your browser's menu bar and click `File -> Print`. **Switch the orientation to landscape mode**, and hit save.\n",
    "    - **MAKE SURE ALL YOUR WORK (CODE AND SCREENSHOTS) IS VISIBLE ON THE PDF. YOU WILL NOT GET CREDIT IF ANYTHING IS CUT OFF.** Reach out for troubleshooting."
   ]
  },
  {
   "cell_type": "markdown",
   "id": "6dc52cf5",
   "metadata": {},
   "source": [
    "<hr style=\"height:2px;\">"
   ]
  },
  {
   "cell_type": "markdown",
   "id": "db2468ad",
   "metadata": {},
   "source": [
    "# Written Questions"
   ]
  },
  {
   "cell_type": "markdown",
   "id": "617a19b5",
   "metadata": {},
   "source": [
    "## W1\n",
    "\n",
    "Explain Codd’s 3rd Rule.\n",
    "- What are some interpretations of a NULL value?\n",
    "- An alternative to using NULL is some other value for indicating missing data, e.g., using -1 for the value of a weight column. Explain the benefits of NULL relative to other approaches."
   ]
  },
  {
   "cell_type": "markdown",
   "id": "51afd801",
   "metadata": {},
   "source": [
    "The rule states that NULL values in a table should be treated uniformly and systemically since there are multiple interpretations of a NULL value. For example, a NULL value could mean that the data was not available/known, or that the data is not applicable (height of a man in a table that includes women).\n",
    "\n",
    "If say in a column of salaries, we don't know the salary of certain employees. If it is set to NULL, then average salary for those records does not take into account NULL values so the average is only the average of non-NULL records. However, if we set the missing data to be 0, then the average salary will be much lower than the true average salary since it is unlikely that anyone has 0 salary."
   ]
  },
  {
   "cell_type": "markdown",
   "id": "100cb5a2",
   "metadata": {},
   "source": [
    "## W2\n",
    "\n",
    "Briefly explain the following concepts:\n",
    "1. Primary key\n",
    "2. Candidate key\n",
    "3. Super key\n",
    "4. Alternate key\n",
    "5. Composite key\n",
    "6. Unique key\n",
    "7. Foreign key"
   ]
  },
  {
   "cell_type": "markdown",
   "id": "0af79087",
   "metadata": {},
   "source": [
    "1. It is (primary) one of the candidate keys (therefore one of the superkeys). It is non-NULL.\n",
    "2. It is a minimal super key. That is removing any value from the super key results in it not being a superkey.\n",
    "3. It is an attribute (or set of attributes) that are sufficient to uniquely identify a record in a table. It may or may not be minimal.\n",
    "4. It is a secondary candidate key that is capable of identifying unique records in a table.\n",
    "5. It is a key made up of multiple attributes that together identifies unique records.\n",
    "6. These are similar to primary keys except they allow NULL values. Officially, these are attributes that uniquely identify rows. (https://www.gleek.io/blog/primary-vs-unique)\n",
    "7. This is a constraint on an attribute of a table. Say table1 has a FK then any row in table1 with a non-null value of FK attribute must have a corresponding row in another table where the key is that FK attribute."
   ]
  },
  {
   "cell_type": "markdown",
   "id": "9ea33f40",
   "metadata": {},
   "source": [
    "## W3\n",
    "\n",
    "<img src=\"./written-diagram.png\">\n",
    "\n",
    "Consider the logical data model above. The one-to-one relationship is modeled using two foreign keys, one in each table.\n",
    "- Why does this make it difficult to insert data into the tables? \n",
    "- What is a (simple) fix for this, i.e., how would you model a one-to-one relationship?"
   ]
  },
  {
   "cell_type": "markdown",
   "id": "ca5adf14",
   "metadata": {},
   "source": [
    "When adding a new student to \"Students\" we need to already have a mentor in the \"Faculty\" table (since \"mentor\" is FK) but that table already needs the new student to exist in \"Students\" since \"mentor_of\" is FK. This is circular and will cause a problem when adding a record to either table.\n",
    "\n",
    "A quick fix would be to remove one or both of the FK constraints. If every student must have a mentor but not every faculty is a mentor then get rid of \"mentor_of\" FK or vice-versa."
   ]
  },
  {
   "cell_type": "markdown",
   "id": "ee08dea8",
   "metadata": {},
   "source": [
    "## W4\n",
    "\n",
    "The relational model places restrictions on attributes. Many data scenarios have more complex types of attributes. Briefly explain the following types of attributes:\n",
    "1. Simple attribute\n",
    "2. Composite attribute\n",
    "3. Derived attribute\n",
    "4. Single-value attribute\n",
    "5. Multi-value attribute"
   ]
  },
  {
   "cell_type": "markdown",
   "id": "7bfa599b",
   "metadata": {},
   "source": [
    "1. It is an atomic, indivisible attribute. That is, cannot be further subdivided into attributes. Eg: \"Age\"\n",
    "2. It is made up of two or more simple attributes. Eg: \"Address\" can be made up of \"City\" + \"State\" + \"Zipcode\"\n",
    "3. It is not stored in database but can be created using existing attributes. Eg: \"Total\" = \"Price\" * \"Quantity\"\n",
    "4. It stores exactly one value per record. Eg: \"DOB\"\n",
    "5. It can store multiple values per record: Eg: \"Phone number(s)\"\n",
    "Source: https://www.knowledgehut.com/blog/database/attributes-in-dbms"
   ]
  },
  {
   "cell_type": "markdown",
   "id": "f9320b21",
   "metadata": {},
   "source": [
    "## W5\n",
    "\n",
    "The slides associated with the recommended textbook list six basic relational operators:\n",
    "1. select: σ\n",
    "2. project: π\n",
    "3. union: ∪\n",
    "4. set difference: -\n",
    "5. Cartesian product: ⨯\n",
    "6. rename: ρ\n",
    "\n",
    "\n",
    "The list does not include join: ⨝. This is because it is possible to derive join using more basic operators. Explain how to derive join from the basic operators."
   ]
  },
  {
   "cell_type": "markdown",
   "id": "7f77dabc",
   "metadata": {},
   "source": [
    "We first get the *Cartesian product* (⨯) to get all combinations of records from two tables. Then use *select* (σ)  to filter on matching attributes. (Can use *project* (π) to retain required columns as final step)"
   ]
  },
  {
   "cell_type": "markdown",
   "id": "5de438ce",
   "metadata": {},
   "source": [
    "## W6\n",
    "\n",
    "Explain how using a natural join may produce an incorrect/unexpected answer."
   ]
  },
  {
   "cell_type": "markdown",
   "id": "2fc6a29c",
   "metadata": {},
   "source": [
    "Natural join uses columns of same name as join condition but if there isn't then there might be unexpected results. For example, if there are 2 tables with columns \"ID\" and \"id\" respectively and we intended to join on those columns but doing a natural join might result in an full outer join if there are no other identical column names."
   ]
  },
  {
   "cell_type": "markdown",
   "id": "b769889b",
   "metadata": {},
   "source": [
    "## W7\n",
    "\n",
    "The UNION and JOIN operations both combine two tables. Describe their differences."
   ]
  },
  {
   "cell_type": "markdown",
   "id": "fd99410b",
   "metadata": {},
   "source": [
    "UNION aggregates the results of separate queries whereas JOIN creates a cartesian product and takes a specific subset of it. UNION puts tables on top of each other whereas JOIN puts them side-by-side."
   ]
  },
  {
   "cell_type": "markdown",
   "id": "a298f48f",
   "metadata": {},
   "source": [
    "## W8\n",
    "\n",
    "Briefly explain the importance of integrity constraints. Why do non-atomic attributes cause problems/difficulties for integrity constraints?"
   ]
  },
  {
   "cell_type": "markdown",
   "id": "f64973d6",
   "metadata": {},
   "source": [
    "Integrity constraints are important in ensuring quality of data and maintaining certain set of rules that all data must adhere to. Without it, we would need to assume that people/programs that modify/use database never make an error and are always consistent with each other ensuring the same quality. \n",
    "\n",
    "Non-composite attributes pose problems since the attributes as an aggregate are a \"column\" so if there is constraints on the aggregate, then any changes to the atomic attributes within the aggregate might break the integrity constraint of the aggregate. For example, if the aggregate is unique, this doesn't mean that the individual atomic attributes need to be unique so to ensure the integrity, all the atomic attributes need to be checked as a whole rather than a single column."
   ]
  },
  {
   "cell_type": "markdown",
   "id": "befb0076",
   "metadata": {},
   "source": [
    "## W9\n",
    "\n",
    "What is the primary reason for creating indexes? What are the negative effects of creating unnecessary indexes?"
   ]
  },
  {
   "cell_type": "markdown",
   "id": "801b31fb",
   "metadata": {},
   "source": [
    "Primary reason is to be more efficient and save time/resources.\n",
    "Counterintuitively, creating unnecessary indexes takes up unnecessary space and reduces performance."
   ]
  },
  {
   "cell_type": "markdown",
   "id": "ad5383ba",
   "metadata": {},
   "source": [
    "## W10\n",
    "\n",
    "Consider the table `time_slot` from the sample database associated with the recommended textbook.\n",
    "- The data type for the column `day` is `char(1)`. Given the data types MySQL supports, what is a better data type for `day`?\n",
    "- What is a scenario that would motivate creating an index on `day`?"
   ]
  },
  {
   "cell_type": "markdown",
   "id": "f1378ec3",
   "metadata": {},
   "source": [
    "1. Best to use ENUM and assign single letter to correspond to each day. Eg ENUM('M', 'T', 'W', 'R', 'F', 'S', 'G') where 'R' corresponds to Thursday, and 'G' to Sunday.\n",
    "\n",
    "2. Ticket reservation systems that frequently look up records based on day would benefit from creating an index on \"day\". Essentially any scenario that frequently uses \"day\" in queries for \"joins\" or \"selects\" would benefit from indexing on \"day\""
   ]
  },
  {
   "cell_type": "markdown",
   "id": "dedecd87",
   "metadata": {},
   "source": [
    "<hr style=\"height:2px;\">"
   ]
  },
  {
   "cell_type": "markdown",
   "id": "b3f98f46",
   "metadata": {},
   "source": [
    "# Relational Algebra"
   ]
  },
  {
   "cell_type": "markdown",
   "id": "d4f2fe60",
   "metadata": {},
   "source": [
    "## R1\n",
    "\n",
    "- Write a relational algebra statement that produces a relation showing **courses that do not have a prereq**\n",
    "- Your output should have the following columns (names should match exactly; there should be no prefixes):\n",
    "    - `course_id`\n",
    "    - `title`\n",
    "    - `dept_name`\n",
    "    - `credits`\n",
    "- You may not use the anti-join: ▷ operator\n",
    "- You should use the `course` and `prereq` tables"
   ]
  },
  {
   "cell_type": "markdown",
   "id": "e8990548",
   "metadata": {},
   "source": [
    "Algebra statement:\n",
    "\n",
    "```\n",
    "π course←course.course_id, title<-course.title, dept_name<-course.dept_name, credits<-course.credits (\n",
    "course) - \n",
    "π course.course_id, title, dept_name, credits (\n",
    "course ⨝ course.course_id = prereq.course_id prereq)\n",
    "```"
   ]
  },
  {
   "cell_type": "markdown",
   "id": "5a5a81dc",
   "metadata": {},
   "source": [
    "Execution:\n",
    "\n",
    "| <img src=\"./R1.jpeg\"  width=\"640\" height=\"640\"> |\n",
    "| :---: |\n",
    "| __R1 Execution Result (part1)__|"
   ]
  },
  {
   "cell_type": "markdown",
   "id": "0c17a687",
   "metadata": {},
   "source": [
    "Execution:\n",
    "\n",
    "| <img src=\"./R1_2.jpeg\" width=\"640\" height=\"640\"> |\n",
    "| :---: |\n",
    "| __R1 Execution Result (part2)__|"
   ]
  },
  {
   "cell_type": "markdown",
   "id": "5a615f16",
   "metadata": {},
   "source": [
    "## R2\n",
    "\n",
    "- Write a relational algebra query that produces a relation showing **students who have taken sections taught by their advisors**\n",
    "    - A section is identified by `(course_id, sec_id, semester, year)`\n",
    "- Your output should have the following columns (names should match exactly; there should be no prefixes):\n",
    "    - `student_name`\n",
    "    - `instructor_name`\n",
    "    - `course_id`\n",
    "    - `sec_id`\n",
    "    - `semester`\n",
    "    - `year`\n",
    "    - `grade`\n",
    "- You should use the `takes`, `teaches`, `advisor`, `student`, and `instructor` tables\n",
    "\n",
    "\n",
    "- As an example, one row you should get is\n",
    "\n",
    "| student_name | instructor_name | course_id | sec_id | semester | year | grade |\n",
    "|--------------|-----------------|-----------|--------|----------|------|-------|\n",
    "| 'Shankar'    | 'Srinivasan'    | 'CS-101'  | 1      | 'Fall'   | 2009 | 'C'   |\n",
    "\n",
    "- Shankar took CS-101, section 1 in Fall of 2009, which was taught by Srinivasan. Additionally, Srinivasan advises Shankar"
   ]
  },
  {
   "cell_type": "markdown",
   "id": "250684a3",
   "metadata": {},
   "source": [
    "Algebra statement:\n",
    "\n",
    "```\n",
    "π student_name ← two.name, instructor_name ← one.name, course_id ← one.course_id, sec_id ← one.sec_id, semester ← one.semester, year ← one.year , grade ← two.grade \n",
    "(ρ one ((π ID, course_id, sec_id, semester, year, name (teaches ⨝ instructor)) \n",
    "⨝\n",
    "ID = advisor.i_id\n",
    "advisor)\n",
    "⨝ one.course_id = two.course_id ∧ one.sec_id = two.sec_id ∧ one.semester = two.semester ∧ one.year = two.year ∧ one.s_id = two.ID\n",
    "(ρ two (π ID, course_id, sec_id, semester, year, name, grade (student ⨝ takes))))\n",
    "```"
   ]
  },
  {
   "cell_type": "code",
   "execution_count": null,
   "id": "4c912983",
   "metadata": {},
   "outputs": [],
   "source": []
  },
  {
   "cell_type": "code",
   "execution_count": null,
   "id": "4265a9d2",
   "metadata": {},
   "outputs": [],
   "source": []
  },
  {
   "cell_type": "markdown",
   "id": "7dac7d0f",
   "metadata": {},
   "source": [
    "Execution:\n",
    "\n",
    "| <img src=\"./R2.jpeg\" width=\"450\" height=\"450\"> |\n",
    "| :---: |\n",
    "| __R2 Execution Result (part1)__|"
   ]
  },
  {
   "cell_type": "code",
   "execution_count": null,
   "id": "afcd338a",
   "metadata": {},
   "outputs": [],
   "source": []
  },
  {
   "cell_type": "markdown",
   "id": "85810218",
   "metadata": {},
   "source": [
    "Execution:\n",
    "\n",
    "| <img src=\"./R2_2.jpeg\" width=\"640\" height=\"640\"> |\n",
    "| :---: |\n",
    "| __R2 Execution Result (part2)__|"
   ]
  },
  {
   "cell_type": "markdown",
   "id": "bb7afb27",
   "metadata": {},
   "source": [
    "## R3\n",
    "\n",
    "- Write a relational algebra query that produces a relation showing **sections that occur on Friday and start after 10 AM**\n",
    "- Your output should have the following columns (names should match exactly; there should be no prefixes):\n",
    "    - `course_title`\n",
    "    - `sec_id`\n",
    "    - `semester`\n",
    "    - `year`\n",
    "    - `day`\n",
    "    - `start_hr`\n",
    "- You should use the `course`, `section`, and `time_slot` tables"
   ]
  },
  {
   "cell_type": "markdown",
   "id": "21fe18b6",
   "metadata": {},
   "source": [
    "Algebra statement:\n",
    "\n",
    "```\n",
    "π course_title ← one.title,\n",
    "sec_id ← one.sec_id,\n",
    "semester ← one.semester,\n",
    "year ← one.year,\n",
    "day ← two.day,\n",
    "start_hr ← two.start_hr\n",
    "(ρ one (course ⨝ section)\n",
    "⨝ one.time_slot_id = two.time_slot_id\n",
    "ρ two (π time_slot_id, start_hr, day (σ start_hr > 10 ∧ day = 'F' (time_slot))))\n",
    "```"
   ]
  },
  {
   "cell_type": "code",
   "execution_count": null,
   "id": "55e559e1",
   "metadata": {},
   "outputs": [],
   "source": []
  },
  {
   "cell_type": "code",
   "execution_count": null,
   "id": "e1bbdc40",
   "metadata": {},
   "outputs": [],
   "source": []
  },
  {
   "cell_type": "code",
   "execution_count": null,
   "id": "28ff5f3d",
   "metadata": {},
   "outputs": [],
   "source": []
  },
  {
   "cell_type": "code",
   "execution_count": null,
   "id": "1bc38a0e",
   "metadata": {},
   "outputs": [],
   "source": []
  },
  {
   "cell_type": "markdown",
   "id": "da1898ec",
   "metadata": {},
   "source": [
    "Execution:\n",
    "\n",
    "| <img src=\"./R3.jpeg\" width=\"500\" height=\"400\"> |\n",
    "| :---: |\n",
    "| __R3 Execution Result (Part1)__|"
   ]
  },
  {
   "cell_type": "markdown",
   "id": "79ee6d57",
   "metadata": {},
   "source": [
    "Execution:\n",
    "\n",
    "| <img src=\"./R3_2.jpeg\" width=\"500\" height=\"500\"> |\n",
    "| :---: |\n",
    "| __R3 Execution Result (Part1)__|"
   ]
  }
 ],
 "metadata": {
  "kernelspec": {
   "display_name": "Python 3 (ipykernel)",
   "language": "python",
   "name": "python3"
  },
  "language_info": {
   "codemirror_mode": {
    "name": "ipython",
    "version": 3
   },
   "file_extension": ".py",
   "mimetype": "text/x-python",
   "name": "python",
   "nbconvert_exporter": "python",
   "pygments_lexer": "ipython3",
<<<<<<< HEAD
   "version": "3.11.5"
=======
   "version": "3.9.12"
  },
  "toc": {
   "base_numbering": 1,
   "nav_menu": {},
   "number_sections": true,
   "sideBar": true,
   "skip_h1_title": false,
   "title_cell": "Table of Contents",
   "title_sidebar": "Contents",
   "toc_cell": false,
   "toc_position": {},
   "toc_section_display": true,
   "toc_window_display": false
>>>>>>> 9c8b2d1f4a2c2807025909df0d432b6eb58b0fc0
  }
 },
 "nbformat": 4,
 "nbformat_minor": 5
}
